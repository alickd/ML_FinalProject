{
  "nbformat": 4,
  "nbformat_minor": 0,
  "metadata": {
    "colab": {
      "provenance": []
    },
    "kernelspec": {
      "name": "python3",
      "display_name": "Python 3"
    },
    "language_info": {
      "name": "python"
    }
  },
  "cells": [
    {
      "cell_type": "markdown",
      "source": [
        "Diabetes Dataset - Classifying Outcome of Diabetes\n"
      ],
      "metadata": {
        "id": "_whI6njeOxaF"
      }
    },
    {
      "cell_type": "markdown",
      "source": [
        "Authors:\n",
        "\n",
        "\n",
        "\n",
        "Dylan Alick (400076938),\n",
        "Simran Chadda (400485703),\n",
        "Sourabh Dhumale (400487107),\n",
        "Sobia Eram Khan Khan (400485847)\n"
      ],
      "metadata": {
        "id": "O2x2iIhRO01k"
      }
    },
    {
      "cell_type": "markdown",
      "source": [
        "Date: December 23rd, 2022"
      ],
      "metadata": {
        "id": "b5jbWmI5O6Fj"
      }
    },
    {
      "cell_type": "code",
      "source": [
        "from google.colab import drive\n",
        "drive.mount('/content/drive')\n",
        "#Importing Libraries\n",
        "import pandas as pd\n",
        "import numpy as np\n",
        "import matplotlib.pyplot as plt\n",
        "import seaborn as sns\n",
        "#Importing time library for Computational times\n",
        "import time\n",
        "from sklearn.model_selection import train_test_split\n",
        "#KNN Classifier\n",
        "from sklearn.neighbors import KNeighborsClassifier\n",
        "#Gaussian Naive Bayes Classifier\n",
        "from sklearn.naive_bayes import GaussianNB\n",
        "#AdaBoost Classifier\n",
        "from sklearn.ensemble import AdaBoostClassifier\n",
        "#Metrics for Classification, Cross-Validation\n",
        "from sklearn.model_selection import KFold, cross_val_score\n",
        "from sklearn.metrics import classification_report\n",
        "from sklearn import metrics\n",
        "#Library for ROC Curve\n",
        "from sklearn.metrics import roc_curve,auc"
      ],
      "metadata": {
        "colab": {
          "base_uri": "https://localhost:8080/"
        },
        "id": "Kk9tnar7PARR",
        "outputId": "42c40818-b47e-4f90-b1ca-36fb5851749b"
      },
      "execution_count": 32,
      "outputs": [
        {
          "output_type": "stream",
          "name": "stdout",
          "text": [
            "Drive already mounted at /content/drive; to attempt to forcibly remount, call drive.mount(\"/content/drive\", force_remount=True).\n"
          ]
        }
      ]
    },
    {
      "cell_type": "code",
      "source": [
        "#Import and Read Data File\n",
        "path =\"/content/drive/MyDrive/Machine Learning Project/diabetes.csv\"\n",
        "\n",
        "df_diabetes = pd.read_csv(path)\n",
        "df_diabetes.head(5)"
      ],
      "metadata": {
        "colab": {
          "base_uri": "https://localhost:8080/",
          "height": 206
        },
        "id": "mpjmqjZiYmrE",
        "outputId": "d7ab48f4-18bb-4a77-f61d-dbe219511c5b"
      },
      "execution_count": 33,
      "outputs": [
        {
          "output_type": "execute_result",
          "data": {
            "text/plain": [
              "   Pregnancies  Glucose  BloodPressure  SkinThickness  Insulin   BMI  \\\n",
              "0            6      148             72             35        0  33.6   \n",
              "1            1       85             66             29        0  26.6   \n",
              "2            8      183             64              0        0  23.3   \n",
              "3            1       89             66             23       94  28.1   \n",
              "4            0      137             40             35      168  43.1   \n",
              "\n",
              "   DiabetesPedigreeFunction  Age  Outcome  \n",
              "0                     0.627   50        1  \n",
              "1                     0.351   31        0  \n",
              "2                     0.672   32        1  \n",
              "3                     0.167   21        0  \n",
              "4                     2.288   33        1  "
            ],
            "text/html": [
              "\n",
              "  <div id=\"df-7e01f3d9-0c5f-4e1c-ae34-2ea3cea1336e\">\n",
              "    <div class=\"colab-df-container\">\n",
              "      <div>\n",
              "<style scoped>\n",
              "    .dataframe tbody tr th:only-of-type {\n",
              "        vertical-align: middle;\n",
              "    }\n",
              "\n",
              "    .dataframe tbody tr th {\n",
              "        vertical-align: top;\n",
              "    }\n",
              "\n",
              "    .dataframe thead th {\n",
              "        text-align: right;\n",
              "    }\n",
              "</style>\n",
              "<table border=\"1\" class=\"dataframe\">\n",
              "  <thead>\n",
              "    <tr style=\"text-align: right;\">\n",
              "      <th></th>\n",
              "      <th>Pregnancies</th>\n",
              "      <th>Glucose</th>\n",
              "      <th>BloodPressure</th>\n",
              "      <th>SkinThickness</th>\n",
              "      <th>Insulin</th>\n",
              "      <th>BMI</th>\n",
              "      <th>DiabetesPedigreeFunction</th>\n",
              "      <th>Age</th>\n",
              "      <th>Outcome</th>\n",
              "    </tr>\n",
              "  </thead>\n",
              "  <tbody>\n",
              "    <tr>\n",
              "      <th>0</th>\n",
              "      <td>6</td>\n",
              "      <td>148</td>\n",
              "      <td>72</td>\n",
              "      <td>35</td>\n",
              "      <td>0</td>\n",
              "      <td>33.6</td>\n",
              "      <td>0.627</td>\n",
              "      <td>50</td>\n",
              "      <td>1</td>\n",
              "    </tr>\n",
              "    <tr>\n",
              "      <th>1</th>\n",
              "      <td>1</td>\n",
              "      <td>85</td>\n",
              "      <td>66</td>\n",
              "      <td>29</td>\n",
              "      <td>0</td>\n",
              "      <td>26.6</td>\n",
              "      <td>0.351</td>\n",
              "      <td>31</td>\n",
              "      <td>0</td>\n",
              "    </tr>\n",
              "    <tr>\n",
              "      <th>2</th>\n",
              "      <td>8</td>\n",
              "      <td>183</td>\n",
              "      <td>64</td>\n",
              "      <td>0</td>\n",
              "      <td>0</td>\n",
              "      <td>23.3</td>\n",
              "      <td>0.672</td>\n",
              "      <td>32</td>\n",
              "      <td>1</td>\n",
              "    </tr>\n",
              "    <tr>\n",
              "      <th>3</th>\n",
              "      <td>1</td>\n",
              "      <td>89</td>\n",
              "      <td>66</td>\n",
              "      <td>23</td>\n",
              "      <td>94</td>\n",
              "      <td>28.1</td>\n",
              "      <td>0.167</td>\n",
              "      <td>21</td>\n",
              "      <td>0</td>\n",
              "    </tr>\n",
              "    <tr>\n",
              "      <th>4</th>\n",
              "      <td>0</td>\n",
              "      <td>137</td>\n",
              "      <td>40</td>\n",
              "      <td>35</td>\n",
              "      <td>168</td>\n",
              "      <td>43.1</td>\n",
              "      <td>2.288</td>\n",
              "      <td>33</td>\n",
              "      <td>1</td>\n",
              "    </tr>\n",
              "  </tbody>\n",
              "</table>\n",
              "</div>\n",
              "      <button class=\"colab-df-convert\" onclick=\"convertToInteractive('df-7e01f3d9-0c5f-4e1c-ae34-2ea3cea1336e')\"\n",
              "              title=\"Convert this dataframe to an interactive table.\"\n",
              "              style=\"display:none;\">\n",
              "        \n",
              "  <svg xmlns=\"http://www.w3.org/2000/svg\" height=\"24px\"viewBox=\"0 0 24 24\"\n",
              "       width=\"24px\">\n",
              "    <path d=\"M0 0h24v24H0V0z\" fill=\"none\"/>\n",
              "    <path d=\"M18.56 5.44l.94 2.06.94-2.06 2.06-.94-2.06-.94-.94-2.06-.94 2.06-2.06.94zm-11 1L8.5 8.5l.94-2.06 2.06-.94-2.06-.94L8.5 2.5l-.94 2.06-2.06.94zm10 10l.94 2.06.94-2.06 2.06-.94-2.06-.94-.94-2.06-.94 2.06-2.06.94z\"/><path d=\"M17.41 7.96l-1.37-1.37c-.4-.4-.92-.59-1.43-.59-.52 0-1.04.2-1.43.59L10.3 9.45l-7.72 7.72c-.78.78-.78 2.05 0 2.83L4 21.41c.39.39.9.59 1.41.59.51 0 1.02-.2 1.41-.59l7.78-7.78 2.81-2.81c.8-.78.8-2.07 0-2.86zM5.41 20L4 18.59l7.72-7.72 1.47 1.35L5.41 20z\"/>\n",
              "  </svg>\n",
              "      </button>\n",
              "      \n",
              "  <style>\n",
              "    .colab-df-container {\n",
              "      display:flex;\n",
              "      flex-wrap:wrap;\n",
              "      gap: 12px;\n",
              "    }\n",
              "\n",
              "    .colab-df-convert {\n",
              "      background-color: #E8F0FE;\n",
              "      border: none;\n",
              "      border-radius: 50%;\n",
              "      cursor: pointer;\n",
              "      display: none;\n",
              "      fill: #1967D2;\n",
              "      height: 32px;\n",
              "      padding: 0 0 0 0;\n",
              "      width: 32px;\n",
              "    }\n",
              "\n",
              "    .colab-df-convert:hover {\n",
              "      background-color: #E2EBFA;\n",
              "      box-shadow: 0px 1px 2px rgba(60, 64, 67, 0.3), 0px 1px 3px 1px rgba(60, 64, 67, 0.15);\n",
              "      fill: #174EA6;\n",
              "    }\n",
              "\n",
              "    [theme=dark] .colab-df-convert {\n",
              "      background-color: #3B4455;\n",
              "      fill: #D2E3FC;\n",
              "    }\n",
              "\n",
              "    [theme=dark] .colab-df-convert:hover {\n",
              "      background-color: #434B5C;\n",
              "      box-shadow: 0px 1px 3px 1px rgba(0, 0, 0, 0.15);\n",
              "      filter: drop-shadow(0px 1px 2px rgba(0, 0, 0, 0.3));\n",
              "      fill: #FFFFFF;\n",
              "    }\n",
              "  </style>\n",
              "\n",
              "      <script>\n",
              "        const buttonEl =\n",
              "          document.querySelector('#df-7e01f3d9-0c5f-4e1c-ae34-2ea3cea1336e button.colab-df-convert');\n",
              "        buttonEl.style.display =\n",
              "          google.colab.kernel.accessAllowed ? 'block' : 'none';\n",
              "\n",
              "        async function convertToInteractive(key) {\n",
              "          const element = document.querySelector('#df-7e01f3d9-0c5f-4e1c-ae34-2ea3cea1336e');\n",
              "          const dataTable =\n",
              "            await google.colab.kernel.invokeFunction('convertToInteractive',\n",
              "                                                     [key], {});\n",
              "          if (!dataTable) return;\n",
              "\n",
              "          const docLinkHtml = 'Like what you see? Visit the ' +\n",
              "            '<a target=\"_blank\" href=https://colab.research.google.com/notebooks/data_table.ipynb>data table notebook</a>'\n",
              "            + ' to learn more about interactive tables.';\n",
              "          element.innerHTML = '';\n",
              "          dataTable['output_type'] = 'display_data';\n",
              "          await google.colab.output.renderOutput(dataTable, element);\n",
              "          const docLink = document.createElement('div');\n",
              "          docLink.innerHTML = docLinkHtml;\n",
              "          element.appendChild(docLink);\n",
              "        }\n",
              "      </script>\n",
              "    </div>\n",
              "  </div>\n",
              "  "
            ]
          },
          "metadata": {},
          "execution_count": 33
        }
      ]
    },
    {
      "cell_type": "code",
      "source": [
        "#Visualize the dataset\n",
        "sns.countplot(x='Outcome',data=df_diabetes)"
      ],
      "metadata": {
        "colab": {
          "base_uri": "https://localhost:8080/",
          "height": 296
        },
        "id": "TaqUHKYykn1d",
        "outputId": "a2f741ef-a43d-43a6-c468-18fc67acb3cb"
      },
      "execution_count": 34,
      "outputs": [
        {
          "output_type": "execute_result",
          "data": {
            "text/plain": [
              "<matplotlib.axes._subplots.AxesSubplot at 0x7f32856f8490>"
            ]
          },
          "metadata": {},
          "execution_count": 34
        },
        {
          "output_type": "display_data",
          "data": {
            "text/plain": [
              "<Figure size 432x288 with 1 Axes>"
            ],
            "image/png": "[encoded data removed]"
          },
          "metadata": {
            "needs_background": "light"
          }
        }
      ]
    },
    {
      "cell_type": "code",
      "source": [
        "#Set the the number of features that will be used for the model\n",
        "x = df_diabetes[['Pregnancies','Glucose','BloodPressure','SkinThickness','Insulin','BMI','DiabetesPedigreeFunction','Age']]\n",
        "y = df_diabetes['Outcome']"
      ],
      "metadata": {
        "id": "_wxUgMNJZKcd"
      },
      "execution_count": 35,
      "outputs": []
    },
    {
      "cell_type": "markdown",
      "source": [
        "Training and Testing the Model"
      ],
      "metadata": {
        "id": "L0-tCKIIiu_S"
      }
    },
    {
      "cell_type": "code",
      "source": [
        "#Training 75% and Testing 25% of data randomly\n",
        "x_train, x_test, y_train, y_test = train_test_split(x,y,test_size=0.25)\n",
        "\n",
        "print(x_train.shape)\n",
        "print(x_test.shape)"
      ],
      "metadata": {
        "colab": {
          "base_uri": "https://localhost:8080/"
        },
        "id": "7SBVMIkFic6P",
        "outputId": "86ed2170-f7d9-436c-cf64-82f5e2814321"
      },
      "execution_count": 36,
      "outputs": [
        {
          "output_type": "stream",
          "name": "stdout",
          "text": [
            "(576, 8)\n",
            "(192, 8)\n"
          ]
        }
      ]
    },
    {
      "cell_type": "markdown",
      "source": [
        "K Nearest Neighbors Algorithm"
      ],
      "metadata": {
        "id": "h-jyJykuiz4l"
      }
    },
    {
      "cell_type": "code",
      "source": [
        "#Training the algorithm\n",
        "start = time.time()\n",
        "#Create KNN Classifier\n",
        "knn = KNeighborsClassifier(n_neighbors=5,weights='distance',metric = 'minkowski',p=2)\n",
        "#Fit Classifier to the data\n",
        "knn.fit(x_train,y_train)\n",
        "end = time.time()\n",
        "training_time = end-start\n",
        "\n",
        "#Testing the algorithm\n",
        "start = time.time()\n",
        "y_predKNN = knn.predict(x_test)\n",
        "end = time.time()\n",
        "testing_time = end-start\n",
        "\n",
        "#Cross-Validation\n",
        "k_folds=KFold(n_splits=5)\n",
        "scores = cross_val_score(knn,x,y,cv=k_folds)\n",
        "\n",
        "#Displaying computational times and accuracy\n",
        "print(\"K-Nearest Neigbours Algorithm\")\n",
        "print(\"Training Time:\", training_time,\"s\")\n",
        "print(\"Testing Time:\", testing_time,\"s\")\n",
        "print ({\"KNN Accuracy:\":metrics.accuracy_score(y_test,y_predKNN)})\n",
        "print(\"Cross Validation Scores: \", scores)\n",
        "print(\"Average CV Score: \", scores.mean())\n",
        "\n",
        "#Confusion Matrix\n",
        "print(classification_report(y_test,y_predKNN))\n",
        "knn_CM = metrics.confusion_matrix(y_test,y_predKNN)\n",
        "cm_display = metrics.ConfusionMatrixDisplay(confusion_matrix = knn_CM, display_labels = ['0','1'])\n",
        "cm_display.plot()\n",
        "plt.title('KNN Confusion Matrix')\n",
        "plt.show()\n",
        "\n",
        "#ROC Curve\n",
        "fpr,tpr,_=roc_curve(y_test,y_predKNN)\n",
        "roc_auc=auc(fpr,tpr)\n",
        "\n",
        "#Plot ROC curve \n",
        "plt.figure()\n",
        "plt.plot(fpr, tpr, label='ROC curve (area = %0.2f)' % roc_auc)\n",
        "plt.plot([0, 1], [0, 1],'k--')\n",
        "plt.xlim([0.0, 1.0])\n",
        "plt.ylim([0.0, 1.05])\n",
        "plt.xlabel('False Positive Rate')\n",
        "plt.ylabel('True Positive Rate')\n",
        "plt.title('KNN ROC Curve')\n",
        "plt.legend(loc=\"lower right\")\n",
        "plt.show()"
      ],
      "metadata": {
        "colab": {
          "base_uri": "https://localhost:8080/",
          "height": 833
        },
        "id": "_MUk030ii4--",
        "outputId": "5cb60cfd-0a71-4328-8334-1f8ee81c556d"
      },
      "execution_count": 37,
      "outputs": [
        {
          "output_type": "stream",
          "name": "stdout",
          "text": [
            "K-Nearest Neigbours Algorithm\n",
            "Training Time: 0.004245281219482422 s\n",
            "Testing Time: 0.004731416702270508 s\n",
            "{'KNN Accuracy:': 0.6822916666666666}\n",
            "Cross Validation Scores:  [0.72727273 0.68831169 0.72077922 0.76470588 0.71895425]\n",
            "Average CV Score:  0.7240047534165182\n",
            "              precision    recall  f1-score   support\n",
            "\n",
            "           0       0.74      0.76      0.75       122\n",
            "           1       0.57      0.54      0.55        70\n",
            "\n",
            "    accuracy                           0.68       192\n",
            "   macro avg       0.66      0.65      0.65       192\n",
            "weighted avg       0.68      0.68      0.68       192\n",
            "\n"
          ]
        },
        {
          "output_type": "display_data",
          "data": {
            "text/plain": [
              "<Figure size 432x288 with 2 Axes>"
            ],
            "image/png": "[encoded data removed]"
          },
          "metadata": {
            "needs_background": "light"
          }
        },
        {
          "output_type": "display_data",
          "data": {
            "text/plain": [
              "<Figure size 432x288 with 1 Axes>"
            ],
            "image/png": "[encoded data removed]"
          },
          "metadata": {
            "needs_background": "light"
          }
        }
      ]
    },
    {
      "cell_type": "markdown",
      "source": [
        "Naive Bayes Algorithm"
      ],
      "metadata": {
        "id": "bn-JgjtllCei"
      }
    },
    {
      "cell_type": "code",
      "source": [
        "#Training the algorithm\n",
        "start = time.time()\n",
        "#Create Naive Bayes Classifier\n",
        "gnb = GaussianNB()\n",
        "#Fit Classifier to the data\n",
        "gnb.fit(x_train,y_train)\n",
        "end = time.time()\n",
        "training_time = end - start\n",
        "\n",
        "#Testing the algorithm\n",
        "start = time.time()\n",
        "y_predGNB = gnb.predict(x_test)\n",
        "end = time.time()\n",
        "testing_time = end - start\n",
        "\n",
        "#Cross-Validation\n",
        "k_folds=KFold(n_splits=5)\n",
        "scores = cross_val_score(gnb,x,y,cv=k_folds)\n",
        "\n",
        "#Displaying computational times and accuracy\n",
        "print(\"Gaussian Naive Bayes Algorithm\")\n",
        "print(\"Training Time:\", training_time,\"s\")\n",
        "print(\"Testing Time:\", testing_time,\"s\")\n",
        "print ({\"Gaussian NB Accuracy:\":metrics.accuracy_score(y_test,y_predGNB)})\n",
        "print(\"Cross Validation Scores: \", scores)\n",
        "print(\"Average CV Score: \", scores.mean())\n",
        "\n",
        "#Confusion Matrix\n",
        "print(classification_report(y_test,y_predGNB))\n",
        "gnb_CM = metrics.confusion_matrix(y_test,y_predGNB)\n",
        "cm_display = metrics.ConfusionMatrixDisplay(confusion_matrix = gnb_CM, display_labels = ['0','1'])\n",
        "cm_display.plot()\n",
        "plt.title('GNB Confusion Matrix')\n",
        "plt.show()\n",
        "\n",
        "#ROC Curve\n",
        "fpr,tpr,_=roc_curve(y_test,y_predGNB)\n",
        "roc_auc=auc(fpr,tpr)\n",
        "\n",
        "#Plot of a ROC curve for a specific class\n",
        "plt.figure()\n",
        "plt.plot(fpr, tpr, label='ROC curve (area = %0.2f)' % roc_auc)\n",
        "plt.plot([0, 1], [0, 1], 'k--')\n",
        "plt.xlim([0.0, 1.0])\n",
        "plt.ylim([0.0, 1.05])\n",
        "plt.xlabel('False Positive Rate')\n",
        "plt.ylabel('True Positive Rate')\n",
        "plt.title('Naive Bayes ROC Curve')\n",
        "plt.legend(loc=\"lower right\")\n",
        "plt.show()"
      ],
      "metadata": {
        "colab": {
          "base_uri": "https://localhost:8080/",
          "height": 833
        },
        "id": "Gmy-eWRAlFza",
        "outputId": "c1ae410d-1b2f-4e02-a068-08cc1e1ed8a8"
      },
      "execution_count": 38,
      "outputs": [
        {
          "output_type": "stream",
          "name": "stdout",
          "text": [
            "Gaussian Naive Bayes Algorithm\n",
            "Training Time: 0.003509998321533203 s\n",
            "Testing Time: 0.0025353431701660156 s\n",
            "{'Gaussian NB Accuracy:': 0.7552083333333334}\n",
            "Cross Validation Scores:  [0.75324675 0.71428571 0.74675325 0.80392157 0.74509804]\n",
            "Average CV Score:  0.7526610644257703\n",
            "              precision    recall  f1-score   support\n",
            "\n",
            "           0       0.79      0.84      0.81       122\n",
            "           1       0.68      0.61      0.65        70\n",
            "\n",
            "    accuracy                           0.76       192\n",
            "   macro avg       0.74      0.73      0.73       192\n",
            "weighted avg       0.75      0.76      0.75       192\n",
            "\n"
          ]
        },
        {
          "output_type": "display_data",
          "data": {
            "text/plain": [
              "<Figure size 432x288 with 2 Axes>"
            ],
            "image/png": "[encoded data removed]"
          },
          "metadata": {
            "needs_background": "light"
          }
        },
        {
          "output_type": "display_data",
          "data": {
            "text/plain": [
              "<Figure size 432x288 with 1 Axes>"
            ],
            "image/png": "[encoded data removed]"
          },
          "metadata": {
            "needs_background": "light"
          }
        }
      ]
    },
    {
      "cell_type": "markdown",
      "source": [
        "Adaboost"
      ],
      "metadata": {
        "id": "9ZTadKthDDsn"
      }
    },
    {
      "cell_type": "code",
      "source": [
        "#Training the algorithm\n",
        "start = time.time()\n",
        "ada = AdaBoostClassifier(n_estimators=100, random_state=0)\n",
        "#Training the classifier\n",
        "ada.fit(x_train,y_train)\n",
        "end = time.time()\n",
        "training_time = end - start\n",
        "\n",
        "#Testing the algorithm\n",
        "testing_time = end - start\n",
        "y_predADA = ada.predict(x_test)\n",
        "end = time.time()\n",
        "testing_time = end - start\n",
        "\n",
        "#Cross-Validation\n",
        "k_folds=KFold(n_splits=5)\n",
        "scores = cross_val_score(ada,x,y,cv=k_folds)\n",
        "\n",
        "#Displaying computational times and accuracy\n",
        "print(\"AdaBoost Algorithm\")\n",
        "print(\"Computational Times\")\n",
        "print(\"Training Time:\", training_time,\"s\")\n",
        "print(\"Testing Time:\", testing_time,\"s\")\n",
        "print ({\"AdaBoost Accuracy:\":metrics.accuracy_score(y_test,y_predADA)})\n",
        "print(\"Cross Validation Scores: \", scores)\n",
        "print(\"Average CV Score: \", scores.mean())\n",
        "\n",
        "#Confusion Matrix\n",
        "print(classification_report(y_test,y_predADA))\n",
        "ada_CM = metrics.confusion_matrix(y_test,y_predADA)\n",
        "cm_display = metrics.ConfusionMatrixDisplay(confusion_matrix = ada_CM, display_labels = ['0','1'])\n",
        "cm_display.plot()\n",
        "plt.title('AdaBoost Confusion Matrix')\n",
        "plt.show()\n",
        "\n",
        "#ROC Curve\n",
        "fpr,tpr,_=roc_curve(y_test,y_predADA)\n",
        "roc_auc=auc(fpr,tpr)\n",
        "\n",
        "# Plot of a ROC curve for a specific class\n",
        "plt.figure()\n",
        "plt.plot(fpr, tpr, label='ROC curve (area = %0.2f)' % roc_auc)\n",
        "plt.plot([0, 1], [0, 1], 'k--')\n",
        "plt.xlim([0.0, 1.0])\n",
        "plt.ylim([0.0, 1.05])\n",
        "plt.xlabel('False Positive Rate')\n",
        "plt.ylabel('True Positive Rate')\n",
        "plt.title('AdaBoost ROC Curve')\n",
        "plt.legend(loc=\"lower right\")\n",
        "plt.show()"
      ],
      "metadata": {
        "colab": {
          "base_uri": "https://localhost:8080/",
          "height": 851
        },
        "id": "kMVnSltkDFZ1",
        "outputId": "be72ff05-47ce-4b9c-e080-ddbb0b7a8aa6"
      },
      "execution_count": 39,
      "outputs": [
        {
          "output_type": "stream",
          "name": "stdout",
          "text": [
            "AdaBoost Algorithm\n",
            "Computational Times\n",
            "Training Time: 0.18856477737426758 s\n",
            "Testing Time: 0.20755743980407715 s\n",
            "{'AdaBoost Accuracy:': 0.7395833333333334}\n",
            "Cross Validation Scores:  [0.75974026 0.68831169 0.75974026 0.79084967 0.73856209]\n",
            "Average CV Score:  0.747440794499618\n",
            "              precision    recall  f1-score   support\n",
            "\n",
            "           0       0.77      0.84      0.80       122\n",
            "           1       0.67      0.56      0.61        70\n",
            "\n",
            "    accuracy                           0.74       192\n",
            "   macro avg       0.72      0.70      0.71       192\n",
            "weighted avg       0.73      0.74      0.73       192\n",
            "\n"
          ]
        },
        {
          "output_type": "display_data",
          "data": {
            "text/plain": [
              "<Figure size 432x288 with 2 Axes>"
            ],
            "image/png": "[encoded data removed]"
          },
          "metadata": {
            "needs_background": "light"
          }
        },
        {
          "output_type": "display_data",
          "data": {
            "text/plain": [
              "<Figure size 432x288 with 1 Axes>"
            ],
            "image/png": "[encoded data removed]"
          },
          "metadata": {
            "needs_background": "light"
          }
        }
      ]
    },
    {
      "cell_type": "code",
      "source": [],
      "metadata": {
        "id": "3SVfR-Qh_cDY"
      },
      "execution_count": null,
      "outputs": []
    }
  ]
}