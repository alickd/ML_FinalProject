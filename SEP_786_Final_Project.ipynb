{
  "nbformat": 4,
  "nbformat_minor": 0,
  "metadata": {
    "colab": {
      "provenance": []
    },
    "kernelspec": {
      "name": "python3",
      "display_name": "Python 3"
    },
    "language_info": {
      "name": "python"
    }
  },
  "cells": [
    {
      "cell_type": "markdown",
      "source": [
        "IRIS Dataset\n",
        "\n"
      ],
      "metadata": {
        "id": "_GRrPeVvYYXm"
      }
    },
    {
      "cell_type": "markdown",
      "source": [
        "Authors:\n",
        "Dylan Alick (400076938),\n",
        "Simran Chadda (400485703),\n",
        "Sourabh Dhumale (400487107),\n",
        "Sobia Eram Khan Khan (400485847)\n",
        "\n",
        "\n"
      ],
      "metadata": {
        "id": "AH4G57jTp-r2"
      }
    },
    {
      "cell_type": "markdown",
      "source": [
        "Date: November 15th, 2022\n",
        "\n"
      ],
      "metadata": {
        "id": "u_r542NwZ58L"
      }
    },
    {
      "cell_type": "code",
      "execution_count": 322,
      "metadata": {
        "id": "yKFdiFU8X9H9",
        "colab": {
          "base_uri": "https://localhost:8080/"
        },
        "outputId": "7dfb6351-f08d-4dfb-f017-634254db6b41"
      },
      "outputs": [
        {
          "output_type": "stream",
          "name": "stdout",
          "text": [
            "Drive already mounted at /content/drive; to attempt to forcibly remount, call drive.mount(\"/content/drive\", force_remount=True).\n"
          ]
        }
      ],
      "source": [
        "from google.colab import drive\n",
        "drive.mount('/content/drive')\n",
        "#Importing Libraries\n",
        "import pandas as pd\n",
        "import numpy as np\n",
        "import matplotlib.pyplot as plt\n",
        "import seaborn as sns\n",
        "#Importing time library for Computational times\n",
        "import time\n",
        "import warnings\n",
        "warnings.filterwarnings('ignore')\n",
        "\n",
        "from sklearn.model_selection import train_test_split\n",
        "#KNN Classifier\n",
        "from sklearn.neighbors import KNeighborsClassifier\n",
        "#Gaussian Naive Bayes Classifier\n",
        "from sklearn.naive_bayes import GaussianNB\n",
        "#Metrics for Classification\n",
        "from sklearn.model_selection import KFold, cross_val_score\n",
        "from sklearn import metrics\n",
        "from sklearn.metrics import classification_report\n",
        "\n",
        "#Libraries for PCA and Feature Selection\n",
        "from sklearn.decomposition import PCA\n",
        "from sklearn.preprocessing import StandardScaler\n",
        "from sklearn.feature_selection import SelectKBest, f_classif\n",
        "from sklearn.feature_selection import chi2, f_regression\n",
        "from sklearn.feature_selection import mutual_info_classif"
      ]
    },
    {
      "cell_type": "code",
      "source": [
        "#Reading the data and printing out first 5 columns\n",
        "path =\"/content/drive/MyDrive/Machine Learning Project/iris.data\"\n",
        "iris_data = pd.read_csv(path, names=['Sepal Length','Sepal Width', 'Petal Length', 'Petal Width', 'Class'])\n",
        "iris_data.head(5)"
      ],
      "metadata": {
        "colab": {
          "base_uri": "https://localhost:8080/",
          "height": 206
        },
        "id": "73bFuenxoaQv",
        "outputId": "206ce1f2-0ed9-42d4-f5cd-0da49e40af24"
      },
      "execution_count": 323,
      "outputs": [
        {
          "output_type": "execute_result",
          "data": {
            "text/plain": [
              "   Sepal Length  Sepal Width  Petal Length  Petal Width        Class\n",
              "0           5.1          3.5           1.4          0.2  Iris-setosa\n",
              "1           4.9          3.0           1.4          0.2  Iris-setosa\n",
              "2           4.7          3.2           1.3          0.2  Iris-setosa\n",
              "3           4.6          3.1           1.5          0.2  Iris-setosa\n",
              "4           5.0          3.6           1.4          0.2  Iris-setosa"
            ],
            "text/html": [
              "\n",
              "  <div id=\"df-df4d62fc-7d49-49f6-86c6-085e952b3128\">\n",
              "    <div class=\"colab-df-container\">\n",
              "      <div>\n",
              "<style scoped>\n",
              "    .dataframe tbody tr th:only-of-type {\n",
              "        vertical-align: middle;\n",
              "    }\n",
              "\n",
              "    .dataframe tbody tr th {\n",
              "        vertical-align: top;\n",
              "    }\n",
              "\n",
              "    .dataframe thead th {\n",
              "        text-align: right;\n",
              "    }\n",
              "</style>\n",
              "<table border=\"1\" class=\"dataframe\">\n",
              "  <thead>\n",
              "    <tr style=\"text-align: right;\">\n",
              "      <th></th>\n",
              "      <th>Sepal Length</th>\n",
              "      <th>Sepal Width</th>\n",
              "      <th>Petal Length</th>\n",
              "      <th>Petal Width</th>\n",
              "      <th>Class</th>\n",
              "    </tr>\n",
              "  </thead>\n",
              "  <tbody>\n",
              "    <tr>\n",
              "      <th>0</th>\n",
              "      <td>5.1</td>\n",
              "      <td>3.5</td>\n",
              "      <td>1.4</td>\n",
              "      <td>0.2</td>\n",
              "      <td>Iris-setosa</td>\n",
              "    </tr>\n",
              "    <tr>\n",
              "      <th>1</th>\n",
              "      <td>4.9</td>\n",
              "      <td>3.0</td>\n",
              "      <td>1.4</td>\n",
              "      <td>0.2</td>\n",
              "      <td>Iris-setosa</td>\n",
              "    </tr>\n",
              "    <tr>\n",
              "      <th>2</th>\n",
              "      <td>4.7</td>\n",
              "      <td>3.2</td>\n",
              "      <td>1.3</td>\n",
              "      <td>0.2</td>\n",
              "      <td>Iris-setosa</td>\n",
              "    </tr>\n",
              "    <tr>\n",
              "      <th>3</th>\n",
              "      <td>4.6</td>\n",
              "      <td>3.1</td>\n",
              "      <td>1.5</td>\n",
              "      <td>0.2</td>\n",
              "      <td>Iris-setosa</td>\n",
              "    </tr>\n",
              "    <tr>\n",
              "      <th>4</th>\n",
              "      <td>5.0</td>\n",
              "      <td>3.6</td>\n",
              "      <td>1.4</td>\n",
              "      <td>0.2</td>\n",
              "      <td>Iris-setosa</td>\n",
              "    </tr>\n",
              "  </tbody>\n",
              "</table>\n",
              "</div>\n",
              "      <button class=\"colab-df-convert\" onclick=\"convertToInteractive('df-df4d62fc-7d49-49f6-86c6-085e952b3128')\"\n",
              "              title=\"Convert this dataframe to an interactive table.\"\n",
              "              style=\"display:none;\">\n",
              "        \n",
              "  <svg xmlns=\"http://www.w3.org/2000/svg\" height=\"24px\"viewBox=\"0 0 24 24\"\n",
              "       width=\"24px\">\n",
              "    <path d=\"M0 0h24v24H0V0z\" fill=\"none\"/>\n",
              "    <path d=\"M18.56 5.44l.94 2.06.94-2.06 2.06-.94-2.06-.94-.94-2.06-.94 2.06-2.06.94zm-11 1L8.5 8.5l.94-2.06 2.06-.94-2.06-.94L8.5 2.5l-.94 2.06-2.06.94zm10 10l.94 2.06.94-2.06 2.06-.94-2.06-.94-.94-2.06-.94 2.06-2.06.94z\"/><path d=\"M17.41 7.96l-1.37-1.37c-.4-.4-.92-.59-1.43-.59-.52 0-1.04.2-1.43.59L10.3 9.45l-7.72 7.72c-.78.78-.78 2.05 0 2.83L4 21.41c.39.39.9.59 1.41.59.51 0 1.02-.2 1.41-.59l7.78-7.78 2.81-2.81c.8-.78.8-2.07 0-2.86zM5.41 20L4 18.59l7.72-7.72 1.47 1.35L5.41 20z\"/>\n",
              "  </svg>\n",
              "      </button>\n",
              "      \n",
              "  <style>\n",
              "    .colab-df-container {\n",
              "      display:flex;\n",
              "      flex-wrap:wrap;\n",
              "      gap: 12px;\n",
              "    }\n",
              "\n",
              "    .colab-df-convert {\n",
              "      background-color: #E8F0FE;\n",
              "      border: none;\n",
              "      border-radius: 50%;\n",
              "      cursor: pointer;\n",
              "      display: none;\n",
              "      fill: #1967D2;\n",
              "      height: 32px;\n",
              "      padding: 0 0 0 0;\n",
              "      width: 32px;\n",
              "    }\n",
              "\n",
              "    .colab-df-convert:hover {\n",
              "      background-color: #E2EBFA;\n",
              "      box-shadow: 0px 1px 2px rgba(60, 64, 67, 0.3), 0px 1px 3px 1px rgba(60, 64, 67, 0.15);\n",
              "      fill: #174EA6;\n",
              "    }\n",
              "\n",
              "    [theme=dark] .colab-df-convert {\n",
              "      background-color: #3B4455;\n",
              "      fill: #D2E3FC;\n",
              "    }\n",
              "\n",
              "    [theme=dark] .colab-df-convert:hover {\n",
              "      background-color: #434B5C;\n",
              "      box-shadow: 0px 1px 3px 1px rgba(0, 0, 0, 0.15);\n",
              "      filter: drop-shadow(0px 1px 2px rgba(0, 0, 0, 0.3));\n",
              "      fill: #FFFFFF;\n",
              "    }\n",
              "  </style>\n",
              "\n",
              "      <script>\n",
              "        const buttonEl =\n",
              "          document.querySelector('#df-df4d62fc-7d49-49f6-86c6-085e952b3128 button.colab-df-convert');\n",
              "        buttonEl.style.display =\n",
              "          google.colab.kernel.accessAllowed ? 'block' : 'none';\n",
              "\n",
              "        async function convertToInteractive(key) {\n",
              "          const element = document.querySelector('#df-df4d62fc-7d49-49f6-86c6-085e952b3128');\n",
              "          const dataTable =\n",
              "            await google.colab.kernel.invokeFunction('convertToInteractive',\n",
              "                                                     [key], {});\n",
              "          if (!dataTable) return;\n",
              "\n",
              "          const docLinkHtml = 'Like what you see? Visit the ' +\n",
              "            '<a target=\"_blank\" href=https://colab.research.google.com/notebooks/data_table.ipynb>data table notebook</a>'\n",
              "            + ' to learn more about interactive tables.';\n",
              "          element.innerHTML = '';\n",
              "          dataTable['output_type'] = 'display_data';\n",
              "          await google.colab.output.renderOutput(dataTable, element);\n",
              "          const docLink = document.createElement('div');\n",
              "          docLink.innerHTML = docLinkHtml;\n",
              "          element.appendChild(docLink);\n",
              "        }\n",
              "      </script>\n",
              "    </div>\n",
              "  </div>\n",
              "  "
            ]
          },
          "metadata": {},
          "execution_count": 323
        }
      ]
    },
    {
      "cell_type": "code",
      "source": [
        "x_features = iris_data[['Sepal Length', 'Sepal Width', 'Petal Length', 'Petal Width']]\n",
        "y=iris_data['Class']\n",
        "\n",
        "#Scaled Features for x\n",
        "x_scaled = StandardScaler().fit_transform(x_features)\n",
        "#Split Training and Test Data - 25%\n",
        "pcaTrain_x, pcaTest_x, pcaTrain_y, pcaTest_y = train_test_split(x_scaled,y, test_size=0.25)\n",
        "\n",
        "print(pcaTrain_x.shape)\n",
        "print(pcaTrain_y.shape)"
      ],
      "metadata": {
        "id": "aa0IdkL8sFxP"
      },
      "execution_count": null,
      "outputs": []
    },
    {
      "cell_type": "markdown",
      "source": [
        "Selecting Best Features using SelectKBest and Mutual Info Classifcation"
      ],
      "metadata": {
        "id": "G0POjoPeOb8C"
      }
    },
    {
      "cell_type": "code",
      "source": [
        "#Selecting the 2 best features in dataset\n",
        "select = SelectKBest(score_func=chi2, k=2)\n",
        "z = select.fit_transform(x_features,y)\n",
        "names = x_features.columns.values[select.get_support()]\n",
        "scores = select.scores_[select.get_support()]\n",
        "names_scores = list(zip(names, scores))\n",
        "\n",
        "MI_score = mutual_info_classif(x_features, y)\n",
        "for feature in zip(x_features, MI_score):\n",
        "    print(feature)\n",
        "\n",
        "print(\"------------------------------------------------------------------------\")\n",
        "print(names)\n",
        "print(scores)\n",
        "\n",
        "#Based on the algorithms for feature selection, the best features are \"Petal Length and \"Petal Width\n",
        "x_BestFeatures = iris_data[['Petal Length', 'Petal Width']]\n",
        "train_x, test_x, train_y, test_y = train_test_split(x_BestFeatures,y,test_size=0.25)"
      ],
      "metadata": {
        "id": "Cy34RA6NI3O3"
      },
      "execution_count": null,
      "outputs": []
    },
    {
      "cell_type": "code",
      "source": [
        "#Visualize the Dataset without PCA\n",
        "\n",
        "#2 feature plot for sepals\n",
        "sns.lmplot(x=\"Sepal Length\",y= \"Sepal Width\", hue=\"Class\",data=iris_data, fit_reg = False)\n",
        "plt.title(\"Sepal Length vs Sepal Width\")\n",
        "\n",
        "#2 feature plot for petals\n",
        "sns.lmplot(x=\"Petal Length\",y= \"Petal Width\", hue=\"Class\",data=iris_data, fit_reg = False)\n",
        "plt.title(\"Petal Length vs Petal Width\")"
      ],
      "metadata": {
        "id": "DZuZWIEykhko"
      },
      "execution_count": null,
      "outputs": []
    },
    {
      "cell_type": "markdown",
      "source": [
        "PCA"
      ],
      "metadata": {
        "id": "aeyS5RHZhLhU"
      }
    },
    {
      "cell_type": "code",
      "source": [
        "#Applying pca with 2 components to reduce dimensionality \n",
        "pca = PCA(n_components=2)\n",
        "principalComponents = pca.fit_transform(x_scaled)\n",
        "\n",
        "pca_features = pd.DataFrame(data = principalComponents, columns = ['Principal Component 1', 'Principal Component 2'])\n",
        "pca_features.head(5)\n",
        "\n",
        "pca_iris = pd.concat([pca_features, iris_data[['Class']]], axis = 1)\n",
        "pca_iris.head(5)"
      ],
      "metadata": {
        "id": "tYOh_Pi2hLKY"
      },
      "execution_count": null,
      "outputs": []
    },
    {
      "cell_type": "code",
      "source": [
        "#Visualize Dataset with PCA\n",
        "sns.lmplot(x='Principal Component 1', y='Principal Component 2', data=pca_iris, hue='Class', fit_reg=False, legend=True)\n",
        "plt.title('2D Principal Component Plot')\n",
        "plt.show()"
      ],
      "metadata": {
        "id": "CfbGXEfC0GjW"
      },
      "execution_count": null,
      "outputs": []
    },
    {
      "cell_type": "markdown",
      "source": [
        "KNN Classifer using PCA "
      ],
      "metadata": {
        "id": "3OvZsj1Sv-1i"
      }
    },
    {
      "cell_type": "code",
      "source": [
        "print(\"K-Nearest Neigbours Algorithm\")\n",
        "start = time.time()\n",
        "knn = KNeighborsClassifier(n_neighbors=4,weights='distance',metric='minkowski')\n",
        "knn.fit(pcaTrain_x, pcaTrain_y)\n",
        "end = time.time()\n",
        "trainingTime = end-start\n",
        "print(\"Training Time: {:.2}\".format(trainingTime),\"s\")\n",
        "\n",
        "start = time.time()\n",
        "y_predKNN = knn.predict(pcaTest_x)\n",
        "end = time.time()\n",
        "testingTime = end-start\n",
        "print(\"Testing Time: {:.2}\".format(testingTime),\"s\")\n",
        "\n",
        "print ({\"KNN Accuracy:\":metrics.accuracy_score(pcaTest_y,y_predKNN)})\n",
        "print(classification_report(pcaTest_y,y_predKNN))\n",
        "knn_CM = metrics.confusion_matrix(pcaTest_y,y_predKNN)\n",
        "cm_display = metrics.ConfusionMatrixDisplay(confusion_matrix = knn_CM, display_labels = ['Iris-Setosa','Iris-Versicolor','Iris-Virginica'])\n",
        "cm_display.plot()\n",
        "plt.title('KNN Confusion Matrix')\n",
        "plt.show()"
      ],
      "metadata": {
        "id": "GRXnAZpgwBiI",
        "colab": {
          "base_uri": "https://localhost:8080/",
          "height": 538
        },
        "outputId": "61e8b636-3d47-484b-f082-07e58ddeabf8"
      },
      "execution_count": 324,
      "outputs": [
        {
          "output_type": "stream",
          "name": "stdout",
          "text": [
            "K-Nearest Neigbours Algorithm\n",
            "Training Time: 0.0015 s\n",
            "Testing Time: 0.002 s\n",
            "{'KNN Accuracy:': 0.9736842105263158}\n",
            "                 precision    recall  f1-score   support\n",
            "\n",
            "    Iris-setosa       1.00      1.00      1.00        12\n",
            "Iris-versicolor       0.93      1.00      0.97        14\n",
            " Iris-virginica       1.00      0.92      0.96        12\n",
            "\n",
            "       accuracy                           0.97        38\n",
            "      macro avg       0.98      0.97      0.97        38\n",
            "   weighted avg       0.98      0.97      0.97        38\n",
            "\n"
          ]
        },
        {
          "output_type": "display_data",
          "data": {
            "text/plain": [
              "<Figure size 432x288 with 2 Axes>"
            ],
            "image/png": "[encoded data removed]"
          },
          "metadata": {
            "needs_background": "light"
          }
        }
      ]
    },
    {
      "cell_type": "markdown",
      "source": [
        "KNN Classifer using Feature Selection"
      ],
      "metadata": {
        "id": "HdROcwh_MPOi"
      }
    },
    {
      "cell_type": "code",
      "source": [
        "print(\"K-Nearest Neigbours Algorithm\")\n",
        "start = time.time()\n",
        "knn = KNeighborsClassifier(n_neighbors=4,weights='distance',metric='minkowski')\n",
        "knn.fit(train_x, train_y)\n",
        "end = time.time()\n",
        "trainingTime = end-start\n",
        "print(\"Training Time: {:.2}\".format(trainingTime),\"s\")\n",
        "\n",
        "start = time.time()\n",
        "y_predKNN = knn.predict(test_x)\n",
        "end = time.time()\n",
        "testingTime = end-start\n",
        "print(\"Testing Time: {:.2}\".format(testingTime),\"s\")\n",
        "\n",
        "print ({\"KNN Accuracy:\":metrics.accuracy_score(test_y,y_predKNN)})\n",
        "print(classification_report(test_y,y_predKNN))\n",
        "knn_CM = metrics.confusion_matrix(test_y,y_predKNN)\n",
        "cm_display = metrics.ConfusionMatrixDisplay(confusion_matrix = knn_CM, display_labels = ['Iris-Setosa','Iris-Versicolor','Iris-Virginica'])\n",
        "cm_display.plot()\n",
        "plt.title('KNN Confusion Matrix')\n",
        "plt.show()"
      ],
      "metadata": {
        "id": "32I8U44AMTP-",
        "colab": {
          "base_uri": "https://localhost:8080/",
          "height": 538
        },
        "outputId": "e8f702d3-b144-4b6f-8b64-4a935da35fd9"
      },
      "execution_count": 326,
      "outputs": [
        {
          "output_type": "stream",
          "name": "stdout",
          "text": [
            "K-Nearest Neigbours Algorithm\n",
            "Training Time: 0.0065 s\n",
            "Testing Time: 0.0034 s\n",
            "{'KNN Accuracy:': 0.9736842105263158}\n",
            "                 precision    recall  f1-score   support\n",
            "\n",
            "    Iris-setosa       1.00      1.00      1.00        13\n",
            "Iris-versicolor       0.91      1.00      0.95        10\n",
            " Iris-virginica       1.00      0.93      0.97        15\n",
            "\n",
            "       accuracy                           0.97        38\n",
            "      macro avg       0.97      0.98      0.97        38\n",
            "   weighted avg       0.98      0.97      0.97        38\n",
            "\n"
          ]
        },
        {
          "output_type": "display_data",
          "data": {
            "text/plain": [
              "<Figure size 432x288 with 2 Axes>"
            ],
            "image/png": "[encoded data removed]"
          },
          "metadata": {
            "needs_background": "light"
          }
        }
      ]
    },
    {
      "cell_type": "markdown",
      "source": [
        "Gaussian Naive Bayes Classifier using PCA\n"
      ],
      "metadata": {
        "id": "PeYRP0G-WtGR"
      }
    },
    {
      "cell_type": "code",
      "source": [
        "print(\"Gaussian Naive Bayes Algorithm\")\n",
        "start = time.time()\n",
        "gnb = GaussianNB()\n",
        "gnb.fit(pcaTrain_x, pcaTrain_y)\n",
        "end = time.time()\n",
        "trainingTime = end-start\n",
        "print(\"Training Time: {:.2}\".format(trainingTime),\"s\")\n",
        "\n",
        "start = time.time()\n",
        "y_predGNB = gnb.predict(pcaTest_x)\n",
        "end = time.time()\n",
        "testingTime = end - start\n",
        "print(\"Testing Time: {:.2}\".format(testingTime),\"s\")\n",
        "\n",
        "print ({\"Gaussian NB Accuracy:\":metrics.accuracy_score(pcaTest_y,y_predGNB)})\n",
        "print(classification_report(pcaTest_y,y_predGNB))\n",
        "gnb_CM = metrics.confusion_matrix(pcaTest_y,y_predGNB)\n",
        "cm_display = metrics.ConfusionMatrixDisplay(confusion_matrix = gnb_CM, display_labels = ['Iris-Setosa','Iris-Versicolor','Iris-Virginica'])\n",
        "cm_display.plot()\n",
        "plt.title('GNB Confusion Matrix')\n",
        "plt.show()"
      ],
      "metadata": {
        "id": "PwggYS2xW1Jj",
        "colab": {
          "base_uri": "https://localhost:8080/",
          "height": 538
        },
        "outputId": "3e2a174d-6c76-406b-8e19-1899d3b7ceee"
      },
      "execution_count": 329,
      "outputs": [
        {
          "output_type": "stream",
          "name": "stdout",
          "text": [
            "Gaussian Naive Bayes Algorithm\n",
            "Training Time: 0.003 s\n",
            "Testing Time: 0.0014 s\n",
            "{'Gaussian NB Accuracy:': 0.9473684210526315}\n",
            "                 precision    recall  f1-score   support\n",
            "\n",
            "    Iris-setosa       1.00      1.00      1.00        12\n",
            "Iris-versicolor       0.93      0.93      0.93        14\n",
            " Iris-virginica       0.92      0.92      0.92        12\n",
            "\n",
            "       accuracy                           0.95        38\n",
            "      macro avg       0.95      0.95      0.95        38\n",
            "   weighted avg       0.95      0.95      0.95        38\n",
            "\n"
          ]
        },
        {
          "output_type": "display_data",
          "data": {
            "text/plain": [
              "<Figure size 432x288 with 2 Axes>"
            ],
            "image/png": "[encoded data removed]"
          },
          "metadata": {
            "needs_background": "light"
          }
        }
      ]
    },
    {
      "cell_type": "markdown",
      "source": [
        "Gaussian Naive Bayes Classifier using Feature Selection\n"
      ],
      "metadata": {
        "id": "4iJL0FC4Wp59"
      }
    },
    {
      "cell_type": "code",
      "source": [
        "print(\"Gaussian Naive Bayes Algorithm\")\n",
        "\n",
        "start = time.time()\n",
        "gnb = GaussianNB()\n",
        "gnb.fit(train_x, train_y)\n",
        "end = time.time()\n",
        "trainingTime = end-start\n",
        "print(\"Training Time: {:.2}\".format(trainingTime),\"s\")\n",
        "\n",
        "start = time.time()\n",
        "y_predGNB = gnb.predict(test_x)\n",
        "end = time.time()\n",
        "testingTime = end - start\n",
        "print(\"Testing Time: {:.2}\".format(testingTime),\"s\")\n",
        "\n",
        "print ({\"Gaussian NB Accuracy:\":metrics.accuracy_score(test_y,y_predGNB)})\n",
        "print(classification_report(test_y,y_predGNB))\n",
        "gnb_CM = metrics.confusion_matrix(test_y,y_predGNB)\n",
        "cm_display = metrics.ConfusionMatrixDisplay(confusion_matrix = gnb_CM, display_labels = ['Iris-Setosa','Iris-Versicolor','Iris-Virginica'])\n",
        "cm_display.plot()\n",
        "plt.title('GNB Confusion Matrix')\n",
        "plt.show()"
      ],
      "metadata": {
        "id": "4Jgz4SuOWweV",
        "colab": {
          "base_uri": "https://localhost:8080/",
          "height": 538
        },
        "outputId": "4cefc1ca-5219-47ff-82a4-48b9228ed101"
      },
      "execution_count": 330,
      "outputs": [
        {
          "output_type": "stream",
          "name": "stdout",
          "text": [
            "Gaussian Naive Bayes Algorithm\n",
            "Training Time: 0.0084 s\n",
            "Testing Time: 0.0035 s\n",
            "{'Gaussian NB Accuracy:': 1.0}\n",
            "                 precision    recall  f1-score   support\n",
            "\n",
            "    Iris-setosa       1.00      1.00      1.00        13\n",
            "Iris-versicolor       1.00      1.00      1.00        10\n",
            " Iris-virginica       1.00      1.00      1.00        15\n",
            "\n",
            "       accuracy                           1.00        38\n",
            "      macro avg       1.00      1.00      1.00        38\n",
            "   weighted avg       1.00      1.00      1.00        38\n",
            "\n"
          ]
        },
        {
          "output_type": "display_data",
          "data": {
            "text/plain": [
              "<Figure size 432x288 with 2 Axes>"
            ],
            "image/png": "[encoded data removed]"
          },
          "metadata": {
            "needs_background": "light"
          }
        }
      ]
    }
  ]
}